{
 "cells": [
  {
   "cell_type": "code",
   "execution_count": 1,
   "metadata": {},
   "outputs": [
    {
     "name": "stderr",
     "output_type": "stream",
     "text": [
      "C:\\Users\\malli\\AppData\\Roaming\\Python\\Python312\\site-packages\\torch\\utils\\_pytree.py:185: FutureWarning: optree is installed but the version is too old to support PyTorch Dynamo in C++ pytree. C++ pytree support is disabled. Please consider upgrading optree using `python3 -m pip install --upgrade 'optree>=0.13.0'`.\n",
      "  warnings.warn(\n"
     ]
    },
    {
     "name": "stdout",
     "output_type": "stream",
     "text": [
      "Using device: cpu\n"
     ]
    }
   ],
   "source": [
    "# Cell 1: Imports\n",
    "import numpy as np\n",
    "import torch\n",
    "import matplotlib.pyplot as plt\n",
    "from env import TreasureGuardianEnv\n",
    "from maddpg import MADDPG\n",
    "\n",
    "# Set device\n",
    "device = torch.device(\"cuda\" if torch.cuda.is_available() else \"cpu\")\n",
    "print(\"Using device:\", device)\n"
   ]
  },
  {
   "cell_type": "code",
   "execution_count": 2,
   "metadata": {},
   "outputs": [
    {
     "name": "stdout",
     "output_type": "stream",
     "text": [
      "Observation Space: Dict('guardian': Box(0, 9, (2,), int32), 'keys': Box(0, 9, (3, 2), int32), 'pits': Box(0, 9, (2, 2), int32), 'treasure': Box(0, 9, (2,), int32), 'villains': Box(0, 9, (1, 2), int32), 'walls': Box(0, 9, (15, 2), int32))\n",
      "Observation Space Type: <class 'gymnasium.spaces.dict.Dict'>\n"
     ]
    }
   ],
   "source": [
    "env = TreasureGuardianEnv()\n",
    "print(\"Observation Space:\", env.observation_space)\n",
    "print(\"Observation Space Type:\", type(env.observation_space))\n"
   ]
  },
  {
   "cell_type": "code",
   "execution_count": 3,
   "metadata": {},
   "outputs": [
    {
     "name": "stdout",
     "output_type": "stream",
     "text": [
      "MADDPG initialized successfully!\n"
     ]
    }
   ],
   "source": [
    "env = TreasureGuardianEnv()\n",
    "num_agents = 1 + env.num_villains  # Guardian + Villains\n",
    "maddpg = MADDPG(env=env, num_agents=num_agents)\n",
    "print(\"MADDPG initialized successfully!\")\n"
   ]
  },
  {
   "cell_type": "code",
   "execution_count": 4,
   "metadata": {},
   "outputs": [
    {
     "name": "stdout",
     "output_type": "stream",
     "text": [
      "Observation Space Keys: dict_keys(['guardian', 'keys', 'pits', 'treasure', 'villains', 'walls'])\n"
     ]
    }
   ],
   "source": [
    "print(\"Observation Space Keys:\", env.observation_space.spaces.keys())\n"
   ]
  },
  {
   "cell_type": "code",
   "execution_count": 6,
   "metadata": {},
   "outputs": [
    {
     "ename": "AttributeError",
     "evalue": "'MADDPG' object has no attribute 'act'",
     "output_type": "error",
     "traceback": [
      "\u001b[1;31m---------------------------------------------------------------------------\u001b[0m",
      "\u001b[1;31mAttributeError\u001b[0m                            Traceback (most recent call last)",
      "Cell \u001b[1;32mIn[6], line 13\u001b[0m\n\u001b[0;32m     10\u001b[0m done \u001b[38;5;241m=\u001b[39m [\u001b[38;5;28;01mFalse\u001b[39;00m] \u001b[38;5;241m*\u001b[39m num_agents\n\u001b[0;32m     12\u001b[0m \u001b[38;5;28;01mfor\u001b[39;00m step \u001b[38;5;129;01min\u001b[39;00m \u001b[38;5;28mrange\u001b[39m(max_steps):\n\u001b[1;32m---> 13\u001b[0m     actions \u001b[38;5;241m=\u001b[39m \u001b[43mmaddpg\u001b[49m\u001b[38;5;241;43m.\u001b[39;49m\u001b[43mact\u001b[49m(obs)\n\u001b[0;32m     14\u001b[0m     next_obs, rewards, done, _ \u001b[38;5;241m=\u001b[39m env\u001b[38;5;241m.\u001b[39mstep(actions)\n\u001b[0;32m     15\u001b[0m     maddpg\u001b[38;5;241m.\u001b[39mstep(obs, actions, rewards, next_obs, done)\n",
      "\u001b[1;31mAttributeError\u001b[0m: 'MADDPG' object has no attribute 'act'"
     ]
    }
   ],
   "source": [
    "# Cell 3: Training Loop\n",
    "\n",
    "n_episodes = 3000\n",
    "max_steps = 100\n",
    "reward_log = []\n",
    "\n",
    "for ep in range(1, n_episodes + 1):\n",
    "    obs = env.reset()\n",
    "    total_reward = np.zeros(num_agents)\n",
    "    done = [False] * num_agents\n",
    "\n",
    "    for step in range(max_steps):\n",
    "        actions = maddpg.act(obs)\n",
    "        next_obs, rewards, done, _ = env.step(actions)\n",
    "        maddpg.step(obs, actions, rewards, next_obs, done)\n",
    "\n",
    "        obs = next_obs\n",
    "        total_reward += np.array(rewards)\n",
    "\n",
    "        if any(done):\n",
    "            break\n",
    "\n",
    "    reward_log.append(total_reward)\n",
    "\n",
    "    if ep % 100 == 0:\n",
    "        avg_rewards = np.mean(reward_log[-100:], axis=0)\n",
    "        print(f\"Episode {ep} - Avg Reward: {avg_rewards}\")\n"
   ]
  },
  {
   "cell_type": "code",
   "execution_count": null,
   "metadata": {},
   "outputs": [],
   "source": [
    "# Cell 4: Plot Rewards\n",
    "\n",
    "reward_log = np.array(reward_log)\n",
    "plt.figure(figsize=(12, 6))\n",
    "for i in range(num_agents):\n",
    "    plt.plot(reward_log[:, i], label=f\"Agent {i}\")\n",
    "plt.xlabel(\"Episode\")\n",
    "plt.ylabel(\"Reward\")\n",
    "plt.title(\"Training Rewards per Agent\")\n",
    "plt.legend()\n",
    "plt.grid()\n",
    "plt.show()\n"
   ]
  },
  {
   "cell_type": "code",
   "execution_count": null,
   "metadata": {},
   "outputs": [],
   "source": [
    "# Cell 5: Save Trained Models\n",
    "maddpg.save(\"maddpg_models/\")\n",
    "print(\"Models saved to 'maddpg_models/'\")\n"
   ]
  }
 ],
 "metadata": {
  "kernelspec": {
   "display_name": "Python 3",
   "language": "python",
   "name": "python3"
  },
  "language_info": {
   "codemirror_mode": {
    "name": "ipython",
    "version": 3
   },
   "file_extension": ".py",
   "mimetype": "text/x-python",
   "name": "python",
   "nbconvert_exporter": "python",
   "pygments_lexer": "ipython3",
   "version": "3.12.6"
  }
 },
 "nbformat": 4,
 "nbformat_minor": 2
}
