{
 "cells": [
  {
   "cell_type": "code",
   "execution_count": 1,
   "metadata": {},
   "outputs": [
    {
     "name": "stderr",
     "output_type": "stream",
     "text": [
      "C:\\Users\\malli\\AppData\\Roaming\\Python\\Python312\\site-packages\\torch\\utils\\_pytree.py:185: FutureWarning: optree is installed but the version is too old to support PyTorch Dynamo in C++ pytree. C++ pytree support is disabled. Please consider upgrading optree using `python3 -m pip install --upgrade 'optree>=0.13.0'`.\n",
      "  warnings.warn(\n"
     ]
    },
    {
     "name": "stdout",
     "output_type": "stream",
     "text": [
      "Using device: cpu\n"
     ]
    }
   ],
   "source": [
    "# Cell 1: Imports\n",
    "import numpy as np\n",
    "import torch\n",
    "import matplotlib.pyplot as plt\n",
    "from env import TreasureGuardianEnv\n",
    "from maddpg import MADDPG\n",
    "\n",
    "# Set device\n",
    "device = torch.device(\"cuda\" if torch.cuda.is_available() else \"cpu\")\n",
    "print(\"Using device:\", device)\n"
   ]
  },
  {
   "cell_type": "code",
   "execution_count": 2,
   "metadata": {},
   "outputs": [
    {
     "name": "stdout",
     "output_type": "stream",
     "text": [
      "Observation Space: Dict('guardian': Box(0, 9, (2,), int32), 'keys': Box(0, 9, (3, 2), int32), 'pits': Box(0, 9, (2, 2), int32), 'treasure': Box(0, 9, (2,), int32), 'villains': Box(0, 9, (1, 2), int32), 'walls': Box(0, 9, (15, 2), int32))\n",
      "Observation Space Type: <class 'gymnasium.spaces.dict.Dict'>\n"
     ]
    }
   ],
   "source": [
    "env = TreasureGuardianEnv()\n",
    "print(\"Observation Space:\", env.observation_space)\n",
    "print(\"Observation Space Type:\", type(env.observation_space))\n"
   ]
  },
  {
   "cell_type": "code",
   "execution_count": 3,
   "metadata": {},
   "outputs": [
    {
     "name": "stdout",
     "output_type": "stream",
     "text": [
      "MADDPG initialized successfully!\n"
     ]
    }
   ],
   "source": [
    "env = TreasureGuardianEnv()\n",
    "num_agents = 1 + env.num_villains  # Guardian + Villains\n",
    "maddpg = MADDPG(env=env, num_agents=num_agents)\n",
    "print(\"MADDPG initialized successfully!\")\n"
   ]
  },
  {
   "cell_type": "code",
   "execution_count": 4,
   "metadata": {},
   "outputs": [
    {
     "name": "stdout",
     "output_type": "stream",
     "text": [
      "Observation Space Keys: dict_keys(['guardian', 'keys', 'pits', 'treasure', 'villains', 'walls'])\n"
     ]
    }
   ],
   "source": [
    "print(\"Observation Space Keys:\", env.observation_space.spaces.keys())\n"
   ]
  },
  {
   "cell_type": "code",
   "execution_count": 5,
   "metadata": {},
   "outputs": [
    {
     "ename": "ValueError",
     "evalue": "setting an array element with a sequence. The requested array has an inhomogeneous shape after 1 dimensions. The detected shape was (1024,) + inhomogeneous part.",
     "output_type": "error",
     "traceback": [
      "\u001b[1;31m---------------------------------------------------------------------------\u001b[0m",
      "\u001b[1;31mValueError\u001b[0m                                Traceback (most recent call last)",
      "Cell \u001b[1;32mIn[5], line 35\u001b[0m\n\u001b[0;32m     32\u001b[0m done \u001b[38;5;241m=\u001b[39m [done_raw, done_raw]\n\u001b[0;32m     34\u001b[0m \u001b[38;5;66;03m# Perform a training step with MADDPG\u001b[39;00m\n\u001b[1;32m---> 35\u001b[0m \u001b[43mmaddpg\u001b[49m\u001b[38;5;241;43m.\u001b[39;49m\u001b[43mstep\u001b[49m\u001b[43m(\u001b[49m\u001b[43mobs\u001b[49m\u001b[43m,\u001b[49m\u001b[43m \u001b[49m\u001b[43maction_list\u001b[49m\u001b[43m,\u001b[49m\u001b[43m \u001b[49m\u001b[43mrewards\u001b[49m\u001b[43m,\u001b[49m\u001b[43m \u001b[49m\u001b[43mnext_obs\u001b[49m\u001b[43m,\u001b[49m\u001b[43m \u001b[49m\u001b[43mdone\u001b[49m\u001b[43m)\u001b[49m\n\u001b[0;32m     37\u001b[0m obs \u001b[38;5;241m=\u001b[39m next_obs\n\u001b[0;32m     38\u001b[0m total_reward \u001b[38;5;241m+\u001b[39m\u001b[38;5;241m=\u001b[39m np\u001b[38;5;241m.\u001b[39marray(rewards)\n",
      "File \u001b[1;32mc:\\Users\\malli\\Desktop\\Sem_6\\RL\\The Treasure Gaurdian\\maddpg.py:139\u001b[0m, in \u001b[0;36mMADDPG.step\u001b[1;34m(self, obs, actions, rewards, next_obs, dones)\u001b[0m\n\u001b[0;32m    137\u001b[0m \u001b[38;5;28;01mif\u001b[39;00m \u001b[38;5;28mlen\u001b[39m(\u001b[38;5;28mself\u001b[39m\u001b[38;5;241m.\u001b[39mbuffer) \u001b[38;5;241m>\u001b[39m \u001b[38;5;28mself\u001b[39m\u001b[38;5;241m.\u001b[39mbatch_size \u001b[38;5;129;01mand\u001b[39;00m \u001b[38;5;28mself\u001b[39m\u001b[38;5;241m.\u001b[39msteps \u001b[38;5;241m%\u001b[39m \u001b[38;5;28mself\u001b[39m\u001b[38;5;241m.\u001b[39mupdate_every \u001b[38;5;241m==\u001b[39m \u001b[38;5;241m0\u001b[39m:\n\u001b[0;32m    138\u001b[0m     \u001b[38;5;28;01mfor\u001b[39;00m agent_idx \u001b[38;5;129;01min\u001b[39;00m \u001b[38;5;28mrange\u001b[39m(\u001b[38;5;28mself\u001b[39m\u001b[38;5;241m.\u001b[39mnum_agents):\n\u001b[1;32m--> 139\u001b[0m         \u001b[38;5;28;43mself\u001b[39;49m\u001b[38;5;241;43m.\u001b[39;49m\u001b[43mupdate\u001b[49m\u001b[43m(\u001b[49m\u001b[43magent_idx\u001b[49m\u001b[43m)\u001b[49m\n",
      "File \u001b[1;32mc:\\Users\\malli\\Desktop\\Sem_6\\RL\\The Treasure Gaurdian\\maddpg.py:142\u001b[0m, in \u001b[0;36mMADDPG.update\u001b[1;34m(self, agent_idx)\u001b[0m\n\u001b[0;32m    141\u001b[0m \u001b[38;5;28;01mdef\u001b[39;00m \u001b[38;5;21mupdate\u001b[39m(\u001b[38;5;28mself\u001b[39m, agent_idx):\n\u001b[1;32m--> 142\u001b[0m     obs, actions, rewards, next_obs, dones \u001b[38;5;241m=\u001b[39m \u001b[38;5;28;43mself\u001b[39;49m\u001b[38;5;241;43m.\u001b[39;49m\u001b[43mbuffer\u001b[49m\u001b[38;5;241;43m.\u001b[39;49m\u001b[43msample\u001b[49m\u001b[43m(\u001b[49m\u001b[38;5;28;43mself\u001b[39;49m\u001b[38;5;241;43m.\u001b[39;49m\u001b[43mbatch_size\u001b[49m\u001b[43m)\u001b[49m\n\u001b[0;32m    144\u001b[0m     obs \u001b[38;5;241m=\u001b[39m torch\u001b[38;5;241m.\u001b[39mFloatTensor(obs)\u001b[38;5;241m.\u001b[39mto(device)\n\u001b[0;32m    145\u001b[0m     actions \u001b[38;5;241m=\u001b[39m torch\u001b[38;5;241m.\u001b[39mLongTensor(actions)\u001b[38;5;241m.\u001b[39mto(device)\n",
      "File \u001b[1;32mc:\\Users\\malli\\Desktop\\Sem_6\\RL\\The Treasure Gaurdian\\maddpg.py:47\u001b[0m, in \u001b[0;36mReplayBuffer.sample\u001b[1;34m(self, batch_size)\u001b[0m\n\u001b[0;32m     45\u001b[0m \u001b[38;5;28;01mdef\u001b[39;00m \u001b[38;5;21msample\u001b[39m(\u001b[38;5;28mself\u001b[39m, batch_size):\n\u001b[0;32m     46\u001b[0m     batch \u001b[38;5;241m=\u001b[39m random\u001b[38;5;241m.\u001b[39msample(\u001b[38;5;28mself\u001b[39m\u001b[38;5;241m.\u001b[39mbuffer, batch_size)\n\u001b[1;32m---> 47\u001b[0m     obs, actions, rewards, next_obs, dones \u001b[38;5;241m=\u001b[39m \u001b[38;5;28mmap\u001b[39m(np\u001b[38;5;241m.\u001b[39marray, \u001b[38;5;28mzip\u001b[39m(\u001b[38;5;241m*\u001b[39mbatch))\n\u001b[0;32m     48\u001b[0m     \u001b[38;5;28;01mreturn\u001b[39;00m obs, actions, rewards, next_obs, dones\n",
      "\u001b[1;31mValueError\u001b[0m: setting an array element with a sequence. The requested array has an inhomogeneous shape after 1 dimensions. The detected shape was (1024,) + inhomogeneous part."
     ]
    }
   ],
   "source": [
    "n_episodes = 3000\n",
    "max_steps = 100\n",
    "reward_log = []\n",
    "\n",
    "for ep in range(1, n_episodes + 1):\n",
    "    obs_raw, _ = env.reset()\n",
    "    # Construct a list of observations: first the guardian, then villains.\n",
    "    obs = [obs_raw[\"guardian\"]] + [v for v in obs_raw[\"villains\"]]\n",
    "    total_reward = np.zeros(num_agents)\n",
    "\n",
    "    for step in range(max_steps):\n",
    "        # Assume maddpg.act() returns a list of actions, one per agent.\n",
    "        action_list = maddpg.act(obs)\n",
    "        # Convert the flat list into dictionary format for the environment:\n",
    "        actions = {\n",
    "            \"guardian\": action_list[0],\n",
    "            \"villains\": action_list[1:]\n",
    "        }\n",
    "        \n",
    "        # Step in the environment. Your env.step() returns:\n",
    "        # (next_obs, (guardian_reward, villain_reward), done, info)\n",
    "        next_obs_raw, rewards_raw, done_raw, _ = env.step(actions)\n",
    "        # Convert next_obs: list format with guardian first.\n",
    "        next_obs = [next_obs_raw[\"guardian\"]] + [v for v in next_obs_raw[\"villains\"]]\n",
    "        \n",
    "        # Since rewards_raw is a tuple (guardian_reward, villain_reward),\n",
    "        # we convert it to a list with guardian and villain rewards.\n",
    "        rewards = [rewards_raw[0], rewards_raw[1]]\n",
    "        \n",
    "        # If done_raw is a single boolean flag, we create a list for each agent.\n",
    "        # (If your env returns a tuple/dict, adjust accordingly.)\n",
    "        done = [done_raw, done_raw]\n",
    "        \n",
    "        # Perform a training step with MADDPG\n",
    "        maddpg.step(obs, action_list, rewards, next_obs, done)\n",
    "\n",
    "        obs = next_obs\n",
    "        total_reward += np.array(rewards)\n",
    "\n",
    "        if any(done):\n",
    "            break\n",
    "\n",
    "    reward_log.append(total_reward)\n",
    "\n",
    "    if ep % 100 == 0:\n",
    "        avg_rewards = np.mean(reward_log[-100:], axis=0)\n",
    "        print(f\"Episode {ep} - Avg Reward: {avg_rewards}\")\n"
   ]
  },
  {
   "cell_type": "code",
   "execution_count": null,
   "metadata": {},
   "outputs": [],
   "source": [
    "# Cell 4: Plot Rewards\n",
    "\n",
    "reward_log = np.array(reward_log)\n",
    "plt.figure(figsize=(12, 6))\n",
    "for i in range(num_agents):\n",
    "    plt.plot(reward_log[:, i], label=f\"Agent {i}\")\n",
    "plt.xlabel(\"Episode\")\n",
    "plt.ylabel(\"Reward\")\n",
    "plt.title(\"Training Rewards per Agent\")\n",
    "plt.legend()\n",
    "plt.grid()\n",
    "plt.show()\n"
   ]
  },
  {
   "cell_type": "code",
   "execution_count": null,
   "metadata": {},
   "outputs": [],
   "source": [
    "# Cell 5: Save Trained Models\n",
    "maddpg.save(\"maddpg_models/\")\n",
    "print(\"Models saved to 'maddpg_models/'\")\n"
   ]
  },
  {
   "cell_type": "code",
   "execution_count": null,
   "metadata": {},
   "outputs": [],
   "source": []
  },
  {
   "cell_type": "code",
   "execution_count": null,
   "metadata": {},
   "outputs": [],
   "source": []
  }
 ],
 "metadata": {
  "kernelspec": {
   "display_name": "Python 3",
   "language": "python",
   "name": "python3"
  },
  "language_info": {
   "codemirror_mode": {
    "name": "ipython",
    "version": 3
   },
   "file_extension": ".py",
   "mimetype": "text/x-python",
   "name": "python",
   "nbconvert_exporter": "python",
   "pygments_lexer": "ipython3",
   "version": "3.12.6"
  }
 },
 "nbformat": 4,
 "nbformat_minor": 2
}
